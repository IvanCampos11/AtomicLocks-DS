{
 "cells": [
  {
   "cell_type": "code",
   "execution_count": 1,
   "metadata": {},
   "outputs": [],
   "source": [
    "import pandas as pd\n",
    "import os\n",
    "import psycopg2\n",
    "from dotenv import load_dotenv\n",
    "from psycopg2.extras import execute_values"
   ]
  },
  {
   "cell_type": "code",
   "execution_count": 2,
   "metadata": {},
   "outputs": [],
   "source": [
    "df = pd.read_csv('/home/ivancampos/Documents/Programming Stuff/AtomicLocks/Data Science/Data/League_teams.csv')"
   ]
  },
  {
   "cell_type": "code",
   "execution_count": 3,
   "metadata": {},
   "outputs": [
    {
     "data": {
      "text/html": [
       "<div>\n",
       "<style scoped>\n",
       "    .dataframe tbody tr th:only-of-type {\n",
       "        vertical-align: middle;\n",
       "    }\n",
       "\n",
       "    .dataframe tbody tr th {\n",
       "        vertical-align: top;\n",
       "    }\n",
       "\n",
       "    .dataframe thead th {\n",
       "        text-align: right;\n",
       "    }\n",
       "</style>\n",
       "<table border=\"1\" class=\"dataframe\">\n",
       "  <thead>\n",
       "    <tr style=\"text-align: right;\">\n",
       "      <th></th>\n",
       "      <th>TeamId</th>\n",
       "      <th>AreaId</th>\n",
       "      <th>AreaName</th>\n",
       "      <th>Key</th>\n",
       "      <th>Name</th>\n",
       "      <th>ShortName</th>\n",
       "      <th>Active</th>\n",
       "    </tr>\n",
       "  </thead>\n",
       "  <tbody>\n",
       "    <tr>\n",
       "      <th>0</th>\n",
       "      <td>100000001</td>\n",
       "      <td>107.0</td>\n",
       "      <td>Korea Republic</td>\n",
       "      <td>AF</td>\n",
       "      <td>afreeca Freecs</td>\n",
       "      <td>afreeca Freecs</td>\n",
       "      <td>True</td>\n",
       "    </tr>\n",
       "    <tr>\n",
       "      <th>1</th>\n",
       "      <td>100000002</td>\n",
       "      <td>107.0</td>\n",
       "      <td>Korea Republic</td>\n",
       "      <td>BBQ</td>\n",
       "      <td>bbq OLIVERS</td>\n",
       "      <td>bbq OLIVERS</td>\n",
       "      <td>True</td>\n",
       "    </tr>\n",
       "    <tr>\n",
       "      <th>2</th>\n",
       "      <td>100000003</td>\n",
       "      <td>107.0</td>\n",
       "      <td>Korea Republic</td>\n",
       "      <td>JAG</td>\n",
       "      <td>Jin Air Green Wings</td>\n",
       "      <td>Jin Air GW</td>\n",
       "      <td>True</td>\n",
       "    </tr>\n",
       "    <tr>\n",
       "      <th>3</th>\n",
       "      <td>100000004</td>\n",
       "      <td>107.0</td>\n",
       "      <td>Korea Republic</td>\n",
       "      <td>KDM</td>\n",
       "      <td>Kongdoo Monster</td>\n",
       "      <td>Kongdoo</td>\n",
       "      <td>True</td>\n",
       "    </tr>\n",
       "    <tr>\n",
       "      <th>4</th>\n",
       "      <td>100000005</td>\n",
       "      <td>107.0</td>\n",
       "      <td>Korea Republic</td>\n",
       "      <td>KT</td>\n",
       "      <td>kt Rolster</td>\n",
       "      <td>kt Rolster</td>\n",
       "      <td>True</td>\n",
       "    </tr>\n",
       "    <tr>\n",
       "      <th>...</th>\n",
       "      <td>...</td>\n",
       "      <td>...</td>\n",
       "      <td>...</td>\n",
       "      <td>...</td>\n",
       "      <td>...</td>\n",
       "      <td>...</td>\n",
       "      <td>...</td>\n",
       "    </tr>\n",
       "    <tr>\n",
       "      <th>225</th>\n",
       "      <td>100000465</td>\n",
       "      <td>176.0</td>\n",
       "      <td>Spain</td>\n",
       "      <td>UCA</td>\n",
       "      <td>UCAM Esports</td>\n",
       "      <td>UCAM Esports</td>\n",
       "      <td>True</td>\n",
       "    </tr>\n",
       "    <tr>\n",
       "      <th>226</th>\n",
       "      <td>100000466</td>\n",
       "      <td>156.0</td>\n",
       "      <td>Portugal</td>\n",
       "      <td>WD</td>\n",
       "      <td>White Dragons</td>\n",
       "      <td>White Dragons</td>\n",
       "      <td>True</td>\n",
       "    </tr>\n",
       "    <tr>\n",
       "      <th>227</th>\n",
       "      <td>100000467</td>\n",
       "      <td>216.0</td>\n",
       "      <td>Serbia</td>\n",
       "      <td>Z10</td>\n",
       "      <td>Z10 ESHARK</td>\n",
       "      <td>Z10 ESHARK</td>\n",
       "      <td>True</td>\n",
       "    </tr>\n",
       "    <tr>\n",
       "      <th>228</th>\n",
       "      <td>100000480</td>\n",
       "      <td>35.0</td>\n",
       "      <td>Brazil</td>\n",
       "      <td>NMG</td>\n",
       "      <td>Netshoes Miner</td>\n",
       "      <td>Netshoes Miner</td>\n",
       "      <td>True</td>\n",
       "    </tr>\n",
       "    <tr>\n",
       "      <th>229</th>\n",
       "      <td>100000481</td>\n",
       "      <td>49.0</td>\n",
       "      <td>China PR</td>\n",
       "      <td>ULP</td>\n",
       "      <td>Ultra Prime</td>\n",
       "      <td>Ultra Prime</td>\n",
       "      <td>True</td>\n",
       "    </tr>\n",
       "  </tbody>\n",
       "</table>\n",
       "<p>230 rows × 7 columns</p>\n",
       "</div>"
      ],
      "text/plain": [
       "        TeamId  AreaId        AreaName  Key                 Name  \\\n",
       "0    100000001   107.0  Korea Republic   AF       afreeca Freecs   \n",
       "1    100000002   107.0  Korea Republic  BBQ          bbq OLIVERS   \n",
       "2    100000003   107.0  Korea Republic  JAG  Jin Air Green Wings   \n",
       "3    100000004   107.0  Korea Republic  KDM      Kongdoo Monster   \n",
       "4    100000005   107.0  Korea Republic   KT           kt Rolster   \n",
       "..         ...     ...             ...  ...                  ...   \n",
       "225  100000465   176.0           Spain  UCA         UCAM Esports   \n",
       "226  100000466   156.0        Portugal   WD        White Dragons   \n",
       "227  100000467   216.0          Serbia  Z10           Z10 ESHARK   \n",
       "228  100000480    35.0          Brazil  NMG       Netshoes Miner   \n",
       "229  100000481    49.0        China PR  ULP          Ultra Prime   \n",
       "\n",
       "          ShortName  Active  \n",
       "0    afreeca Freecs    True  \n",
       "1       bbq OLIVERS    True  \n",
       "2        Jin Air GW    True  \n",
       "3           Kongdoo    True  \n",
       "4        kt Rolster    True  \n",
       "..              ...     ...  \n",
       "225    UCAM Esports    True  \n",
       "226   White Dragons    True  \n",
       "227      Z10 ESHARK    True  \n",
       "228  Netshoes Miner    True  \n",
       "229     Ultra Prime    True  \n",
       "\n",
       "[230 rows x 7 columns]"
      ]
     },
     "execution_count": 3,
     "metadata": {},
     "output_type": "execute_result"
    }
   ],
   "source": [
    "df"
   ]
  },
  {
   "cell_type": "code",
   "execution_count": 4,
   "metadata": {},
   "outputs": [
    {
     "data": {
      "text/plain": [
       "3"
      ]
     },
     "execution_count": 4,
     "metadata": {},
     "output_type": "execute_result"
    }
   ],
   "source": [
    "df.isnull().sum().sum()"
   ]
  },
  {
   "cell_type": "code",
   "execution_count": 5,
   "metadata": {},
   "outputs": [],
   "source": [
    "df['AreaId'].fillna(0,inplace=True)\n",
    "df.fillna('?',inplace=True)"
   ]
  },
  {
   "cell_type": "code",
   "execution_count": 6,
   "metadata": {},
   "outputs": [],
   "source": [
    "df.to_csv('League_teams.csv')\n",
    "df = pd.read_csv('/home/ivancampos/Documents/Programming Stuff/AtomicLocks/Data Science/notebooks/League_teams.csv')"
   ]
  },
  {
   "cell_type": "code",
   "execution_count": 7,
   "metadata": {},
   "outputs": [],
   "source": [
    "create_LCS_teams_table = \"\"\"\n",
    "DROP TABLE IF EXISTS lcs_teams;\n",
    "CREATE TABLE lcs_teams (\n",
    "  ID INT,\n",
    "  TeamID INT,\n",
    "  AreaID FLOAT,\n",
    "  AreaName VARCHAR,\n",
    "  Key VARCHAR,\n",
    "  Name VARCHAR,\n",
    "  ShortName VARCHAR,\n",
    "  Active BOOLEAN\n",
    ")\n",
    "\"\"\""
   ]
  },
  {
   "cell_type": "code",
   "execution_count": 2,
   "metadata": {},
   "outputs": [],
   "source": [
    "load_dotenv(\"/home/ivancampos/Documents/Programming Stuff/AtomicLocks/Data Science/Data/.env\")\n",
    "\n",
    "DB_NAME = os.getenv('DB_NAME')\n",
    "DB_USER = os.getenv(\"DB_USER\")\n",
    "DB_PASSWORD = os.getenv(\"DB_PASSWORD\")\n",
    "DB_HOST = os.getenv(\"DB_HOST\")\n",
    "DB_PORT = os.getenv(\"DB_PORT\")\n"
   ]
  },
  {
   "cell_type": "code",
   "execution_count": 83,
   "metadata": {},
   "outputs": [],
   "source": [
    "conn = psycopg2.connect(\n",
    "            dbname= DB_NAME, user=DB_USER, password=DB_PASSWORD, host=DB_HOST, port=DB_PORT)\n",
    "\n",
    "cur = conn.cursor()"
   ]
  },
  {
   "cell_type": "code",
   "execution_count": 10,
   "metadata": {},
   "outputs": [],
   "source": [
    "cur.execute(create_LCS_teams_table)\n",
    "conn.commit()"
   ]
  },
  {
   "cell_type": "code",
   "execution_count": 11,
   "metadata": {},
   "outputs": [],
   "source": [
    "row = ''\n",
    "insert_lcs_teams = \"\"\"\n",
    "INSERT INTO lcs_players \n",
    "(ID,TeamId,AreaId,AreaName,Key,Name,ShortName,Active)\n",
    "VALUES\"\"\" + str(tuple(row)) + \";\""
   ]
  },
  {
   "cell_type": "code",
   "execution_count": 12,
   "metadata": {},
   "outputs": [],
   "source": [
    "execute_values(cur, \"\"\"\n",
    "    INSERT INTO lcs_teams\n",
    "    (ID,TeamId,AreaId,AreaName,Key,Name,ShortName,Active)\n",
    "    VALUES %s;\n",
    "    \"\"\", [tuple(row) for row in df.values])\n",
    "\n",
    "conn.commit()"
   ]
  },
  {
   "cell_type": "code",
   "execution_count": 7,
   "metadata": {},
   "outputs": [],
   "source": [
    "cur.close()\n",
    "conn.close()"
   ]
  },
  {
   "cell_type": "code",
   "execution_count": 84,
   "metadata": {},
   "outputs": [],
   "source": [
    "team_stuff_list = ['id', 'TeamId', 'AreaId', 'AreaName',\n",
    "                       'Key', 'Name', 'ShortName', 'Active']\n",
    "id_team = '100000481'\n",
    "\n",
    "query = \"\"\"\n",
    "        SELECT * FROM lcs_teams\n",
    "        WHERE TeamId =\"\"\" + id_team + \";\"\n",
    "cur.execute(query)\n",
    "result = cur.fetchall()\n",
    "conn.close()\n",
    "li = []\n",
    "for i in result:\n",
    "    for j in i:\n",
    "        li.append(j)\n",
    "\n",
    "final_team_info = dict(zip(team_stuff_list, li))"
   ]
  },
  {
   "cell_type": "code",
   "execution_count": 85,
   "metadata": {},
   "outputs": [
    {
     "data": {
      "text/plain": [
       "{'id': 229,\n",
       " 'TeamId': 100000481,\n",
       " 'AreaId': 49.0,\n",
       " 'AreaName': 'China PR',\n",
       " 'Key': 'ULP',\n",
       " 'Name': 'Ultra Prime',\n",
       " 'ShortName': 'Ultra Prime',\n",
       " 'Active': True}"
      ]
     },
     "execution_count": 85,
     "metadata": {},
     "output_type": "execute_result"
    }
   ],
   "source": [
    "final_team_info"
   ]
  },
  {
   "cell_type": "code",
   "execution_count": 81,
   "metadata": {},
   "outputs": [],
   "source": [
    "li = []\n",
    "for i in result:\n",
    "    for j in i:\n",
    "        li.append(j)"
   ]
  },
  {
   "cell_type": "code",
   "execution_count": 82,
   "metadata": {},
   "outputs": [
    {
     "data": {
      "text/plain": [
       "[229, 100000481, 49.0, 'China PR', 'ULP', 'Ultra Prime', 'Ultra Prime', True]"
      ]
     },
     "execution_count": 82,
     "metadata": {},
     "output_type": "execute_result"
    }
   ],
   "source": [
    "li"
   ]
  },
  {
   "cell_type": "code",
   "execution_count": 38,
   "metadata": {},
   "outputs": [
    {
     "data": {
      "text/plain": [
       "{'id': (229,\n",
       "  100000481,\n",
       "  49.0,\n",
       "  'China PR',\n",
       "  'ULP',\n",
       "  'Ultra Prime',\n",
       "  'Ultra Prime',\n",
       "  True)}"
      ]
     },
     "execution_count": 38,
     "metadata": {},
     "output_type": "execute_result"
    }
   ],
   "source": [
    "final_team_info"
   ]
  },
  {
   "cell_type": "code",
   "execution_count": null,
   "metadata": {},
   "outputs": [],
   "source": []
  }
 ],
 "metadata": {
  "interpreter": {
   "hash": "5b3ded1ccb95c1d9bd405e7b823d9e85424cde40fbb5985eb47e999ef50e15b4"
  },
  "kernelspec": {
   "display_name": "Python 3.8.6 64-bit",
   "name": "python3"
  },
  "language_info": {
   "name": "python",
   "version": ""
  },
  "orig_nbformat": 4
 },
 "nbformat": 4,
 "nbformat_minor": 2
}