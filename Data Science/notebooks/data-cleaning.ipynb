{
 "metadata": {
  "language_info": {
   "codemirror_mode": {
    "name": "ipython",
    "version": 3
   },
   "file_extension": ".py",
   "mimetype": "text/x-python",
   "name": "python",
   "nbconvert_exporter": "python",
   "pygments_lexer": "ipython3",
   "version": "3.8.6"
  },
  "orig_nbformat": 2,
  "kernelspec": {
   "name": "python386jvsc74a57bd06887c15d3295a9bf1d43b41b516e20e9cfb3ef4a26989fabbae1bd079ce4279b",
   "display_name": "Python 3.8.6 64-bit ('Data_Science-vqqOLOM8': virtualenvwrapper)"
  },
  "metadata": {
   "interpreter": {
    "hash": "6887c15d3295a9bf1d43b41b516e20e9cfb3ef4a26989fabbae1bd079ce4279b"
   }
  }
 },
 "nbformat": 4,
 "nbformat_minor": 2,
 "cells": [
  {
   "cell_type": "code",
   "execution_count": 1,
   "metadata": {},
   "outputs": [],
   "source": [
    "import pandas as pd"
   ]
  },
  {
   "cell_type": "code",
   "execution_count": 6,
   "metadata": {},
   "outputs": [
    {
     "output_type": "stream",
     "name": "stderr",
     "text": [
      "/home/ivancampos/.virtualenvs/Data_Science-vqqOLOM8/lib/python3.8/site-packages/IPython/core/interactiveshell.py:3169: DtypeWarning: Columns (79,80,81,82,197,198,199,200,315,316,317,318,433,434,435,436,551,552,553,554,669,670,671,672,787,788,789,790,905,906,907,908,1023,1024,1025,1026,1141,1142,1143,1144) have mixed types.Specify dtype option on import or set low_memory=False.\n  has_raised = await self.run_ast_nodes(code_ast.body, cell_name,\n"
     ]
    }
   ],
   "source": [
    "df = pd.read_csv('/home/ivancampos/Documents/Programming Stuff/AtomicLocks/Data Science/Data/root_games.csv')"
   ]
  },
  {
   "cell_type": "code",
   "execution_count": 7,
   "metadata": {},
   "outputs": [
    {
     "output_type": "execute_result",
     "data": {
      "text/plain": [
       "          gameId platformId   gameCreation  gameDuration  queueId  mapId  \\\n",
       "0     3697668302        NA1  1607466298025           607      420     11   \n",
       "1     3684169604        NA1  1606615244343          1485      420     11   \n",
       "2     3683991059        NA1  1606603135732          1506      420     11   \n",
       "3     3674176170        NA1  1606011059740          1948      420     11   \n",
       "4     3670897053        NA1  1605828202468          1854      420     11   \n",
       "...          ...        ...            ...           ...      ...    ...   \n",
       "1082  3686642595        NA1  1606769260291          1449      420     11   \n",
       "1083  3643142628        NA1  1604256800803          1131      420     11   \n",
       "1084  3650407483        NA1  1604688249882          1497      420     11   \n",
       "1085  3701887949        NA1  1607756363545          2219      420     11   \n",
       "1086  3701896774        NA1  1607755943033          2080      420     11   \n",
       "\n",
       "      seasonId     gameVersion gameMode      gameType  ...  \\\n",
       "0           13  10.24.345.8390  CLASSIC  MATCHED_GAME  ...   \n",
       "1           13  10.24.345.8390  CLASSIC  MATCHED_GAME  ...   \n",
       "2           13  10.24.345.8390  CLASSIC  MATCHED_GAME  ...   \n",
       "3           13  10.23.343.2581  CLASSIC  MATCHED_GAME  ...   \n",
       "4           13  10.23.343.2581  CLASSIC  MATCHED_GAME  ...   \n",
       "...        ...             ...      ...           ...  ...   \n",
       "1082        13  10.24.345.8390  CLASSIC  MATCHED_GAME  ...   \n",
       "1083        13   10.22.341.643  CLASSIC  MATCHED_GAME  ...   \n",
       "1084        13   10.22.341.643  CLASSIC  MATCHED_GAME  ...   \n",
       "1085        13  10.25.348.1797  CLASSIC  MATCHED_GAME  ...   \n",
       "1086        13  10.25.348.1797  CLASSIC  MATCHED_GAME  ...   \n",
       "\n",
       "      participant7.timeline.damageTakenDiffPerMinDeltas.30-end  \\\n",
       "0                                                   NaN          \n",
       "1                                                   NaN          \n",
       "2                                                   NaN          \n",
       "3                                                   NaN          \n",
       "4                                                   NaN          \n",
       "...                                                 ...          \n",
       "1082                                                NaN          \n",
       "1083                                                NaN          \n",
       "1084                                                NaN          \n",
       "1085                                              213.3          \n",
       "1086                                                NaN          \n",
       "\n",
       "      participant8.timeline.csDiffPerMinDeltas.30-end  \\\n",
       "0                                                 NaN   \n",
       "1                                                 NaN   \n",
       "2                                                 NaN   \n",
       "3                                                 NaN   \n",
       "4                                                 NaN   \n",
       "...                                               ...   \n",
       "1082                                              NaN   \n",
       "1083                                              NaN   \n",
       "1084                                              NaN   \n",
       "1085                                              2.7   \n",
       "1086                                              NaN   \n",
       "\n",
       "      participant8.timeline.xpDiffPerMinDeltas.30-end  \\\n",
       "0                                                 NaN   \n",
       "1                                                 NaN   \n",
       "2                                                 NaN   \n",
       "3                                                 NaN   \n",
       "4                                                 NaN   \n",
       "...                                               ...   \n",
       "1082                                              NaN   \n",
       "1083                                              NaN   \n",
       "1084                                              NaN   \n",
       "1085                                            236.3   \n",
       "1086                                              NaN   \n",
       "\n",
       "      participant8.timeline.damageTakenDiffPerMinDeltas.30-end  \\\n",
       "0                                                   NaN          \n",
       "1                                                   NaN          \n",
       "2                                                   NaN          \n",
       "3                                                   NaN          \n",
       "4                                                   NaN          \n",
       "...                                                 ...          \n",
       "1082                                                NaN          \n",
       "1083                                                NaN          \n",
       "1084                                                NaN          \n",
       "1085                                              213.3          \n",
       "1086                                                NaN          \n",
       "\n",
       "      participant9.timeline.csDiffPerMinDeltas.30-end  \\\n",
       "0                                                 NaN   \n",
       "1                                                 NaN   \n",
       "2                                                 NaN   \n",
       "3                                                 NaN   \n",
       "4                                                 NaN   \n",
       "...                                               ...   \n",
       "1082                                              NaN   \n",
       "1083                                              NaN   \n",
       "1084                                              NaN   \n",
       "1085                                              0.6   \n",
       "1086                                              NaN   \n",
       "\n",
       "      participant9.timeline.xpDiffPerMinDeltas.30-end  \\\n",
       "0                                                 NaN   \n",
       "1                                                 NaN   \n",
       "2                                                 NaN   \n",
       "3                                                 NaN   \n",
       "4                                                 NaN   \n",
       "...                                               ...   \n",
       "1082                                              NaN   \n",
       "1083                                              NaN   \n",
       "1084                                              NaN   \n",
       "1085                                           -260.6   \n",
       "1086                                              NaN   \n",
       "\n",
       "      participant9.timeline.damageTakenDiffPerMinDeltas.30-end  \\\n",
       "0                                                   NaN          \n",
       "1                                                   NaN          \n",
       "2                                                   NaN          \n",
       "3                                                   NaN          \n",
       "4                                                   NaN          \n",
       "...                                                 ...          \n",
       "1082                                                NaN          \n",
       "1083                                                NaN          \n",
       "1084                                                NaN          \n",
       "1085                                             -578.4          \n",
       "1086                                                NaN          \n",
       "\n",
       "      participant10.timeline.csDiffPerMinDeltas.30-end  \\\n",
       "0                                                  NaN   \n",
       "1                                                  NaN   \n",
       "2                                                  NaN   \n",
       "3                                                  NaN   \n",
       "4                                                  NaN   \n",
       "...                                                ...   \n",
       "1082                                               NaN   \n",
       "1083                                               NaN   \n",
       "1084                                               NaN   \n",
       "1085                                               3.2   \n",
       "1086                                               NaN   \n",
       "\n",
       "      participant10.timeline.xpDiffPerMinDeltas.30-end  \\\n",
       "0                                                  NaN   \n",
       "1                                                  NaN   \n",
       "2                                                  NaN   \n",
       "3                                                  NaN   \n",
       "4                                                  NaN   \n",
       "...                                                ...   \n",
       "1082                                               NaN   \n",
       "1083                                               NaN   \n",
       "1084                                               NaN   \n",
       "1085                                             -86.0   \n",
       "1086                                               NaN   \n",
       "\n",
       "      participant10.timeline.damageTakenDiffPerMinDeltas.30-end  \n",
       "0                                                   NaN          \n",
       "1                                                   NaN          \n",
       "2                                                   NaN          \n",
       "3                                                   NaN          \n",
       "4                                                   NaN          \n",
       "...                                                 ...          \n",
       "1082                                                NaN          \n",
       "1083                                                NaN          \n",
       "1084                                                NaN          \n",
       "1085                                              190.4          \n",
       "1086                                                NaN          \n",
       "\n",
       "[1087 rows x 1518 columns]"
      ],
      "text/html": "<div>\n<style scoped>\n    .dataframe tbody tr th:only-of-type {\n        vertical-align: middle;\n    }\n\n    .dataframe tbody tr th {\n        vertical-align: top;\n    }\n\n    .dataframe thead th {\n        text-align: right;\n    }\n</style>\n<table border=\"1\" class=\"dataframe\">\n  <thead>\n    <tr style=\"text-align: right;\">\n      <th></th>\n      <th>gameId</th>\n      <th>platformId</th>\n      <th>gameCreation</th>\n      <th>gameDuration</th>\n      <th>queueId</th>\n      <th>mapId</th>\n      <th>seasonId</th>\n      <th>gameVersion</th>\n      <th>gameMode</th>\n      <th>gameType</th>\n      <th>...</th>\n      <th>participant7.timeline.damageTakenDiffPerMinDeltas.30-end</th>\n      <th>participant8.timeline.csDiffPerMinDeltas.30-end</th>\n      <th>participant8.timeline.xpDiffPerMinDeltas.30-end</th>\n      <th>participant8.timeline.damageTakenDiffPerMinDeltas.30-end</th>\n      <th>participant9.timeline.csDiffPerMinDeltas.30-end</th>\n      <th>participant9.timeline.xpDiffPerMinDeltas.30-end</th>\n      <th>participant9.timeline.damageTakenDiffPerMinDeltas.30-end</th>\n      <th>participant10.timeline.csDiffPerMinDeltas.30-end</th>\n      <th>participant10.timeline.xpDiffPerMinDeltas.30-end</th>\n      <th>participant10.timeline.damageTakenDiffPerMinDeltas.30-end</th>\n    </tr>\n  </thead>\n  <tbody>\n    <tr>\n      <th>0</th>\n      <td>3697668302</td>\n      <td>NA1</td>\n      <td>1607466298025</td>\n      <td>607</td>\n      <td>420</td>\n      <td>11</td>\n      <td>13</td>\n      <td>10.24.345.8390</td>\n      <td>CLASSIC</td>\n      <td>MATCHED_GAME</td>\n      <td>...</td>\n      <td>NaN</td>\n      <td>NaN</td>\n      <td>NaN</td>\n      <td>NaN</td>\n      <td>NaN</td>\n      <td>NaN</td>\n      <td>NaN</td>\n      <td>NaN</td>\n      <td>NaN</td>\n      <td>NaN</td>\n    </tr>\n    <tr>\n      <th>1</th>\n      <td>3684169604</td>\n      <td>NA1</td>\n      <td>1606615244343</td>\n      <td>1485</td>\n      <td>420</td>\n      <td>11</td>\n      <td>13</td>\n      <td>10.24.345.8390</td>\n      <td>CLASSIC</td>\n      <td>MATCHED_GAME</td>\n      <td>...</td>\n      <td>NaN</td>\n      <td>NaN</td>\n      <td>NaN</td>\n      <td>NaN</td>\n      <td>NaN</td>\n      <td>NaN</td>\n      <td>NaN</td>\n      <td>NaN</td>\n      <td>NaN</td>\n      <td>NaN</td>\n    </tr>\n    <tr>\n      <th>2</th>\n      <td>3683991059</td>\n      <td>NA1</td>\n      <td>1606603135732</td>\n      <td>1506</td>\n      <td>420</td>\n      <td>11</td>\n      <td>13</td>\n      <td>10.24.345.8390</td>\n      <td>CLASSIC</td>\n      <td>MATCHED_GAME</td>\n      <td>...</td>\n      <td>NaN</td>\n      <td>NaN</td>\n      <td>NaN</td>\n      <td>NaN</td>\n      <td>NaN</td>\n      <td>NaN</td>\n      <td>NaN</td>\n      <td>NaN</td>\n      <td>NaN</td>\n      <td>NaN</td>\n    </tr>\n    <tr>\n      <th>3</th>\n      <td>3674176170</td>\n      <td>NA1</td>\n      <td>1606011059740</td>\n      <td>1948</td>\n      <td>420</td>\n      <td>11</td>\n      <td>13</td>\n      <td>10.23.343.2581</td>\n      <td>CLASSIC</td>\n      <td>MATCHED_GAME</td>\n      <td>...</td>\n      <td>NaN</td>\n      <td>NaN</td>\n      <td>NaN</td>\n      <td>NaN</td>\n      <td>NaN</td>\n      <td>NaN</td>\n      <td>NaN</td>\n      <td>NaN</td>\n      <td>NaN</td>\n      <td>NaN</td>\n    </tr>\n    <tr>\n      <th>4</th>\n      <td>3670897053</td>\n      <td>NA1</td>\n      <td>1605828202468</td>\n      <td>1854</td>\n      <td>420</td>\n      <td>11</td>\n      <td>13</td>\n      <td>10.23.343.2581</td>\n      <td>CLASSIC</td>\n      <td>MATCHED_GAME</td>\n      <td>...</td>\n      <td>NaN</td>\n      <td>NaN</td>\n      <td>NaN</td>\n      <td>NaN</td>\n      <td>NaN</td>\n      <td>NaN</td>\n      <td>NaN</td>\n      <td>NaN</td>\n      <td>NaN</td>\n      <td>NaN</td>\n    </tr>\n    <tr>\n      <th>...</th>\n      <td>...</td>\n      <td>...</td>\n      <td>...</td>\n      <td>...</td>\n      <td>...</td>\n      <td>...</td>\n      <td>...</td>\n      <td>...</td>\n      <td>...</td>\n      <td>...</td>\n      <td>...</td>\n      <td>...</td>\n      <td>...</td>\n      <td>...</td>\n      <td>...</td>\n      <td>...</td>\n      <td>...</td>\n      <td>...</td>\n      <td>...</td>\n      <td>...</td>\n      <td>...</td>\n    </tr>\n    <tr>\n      <th>1082</th>\n      <td>3686642595</td>\n      <td>NA1</td>\n      <td>1606769260291</td>\n      <td>1449</td>\n      <td>420</td>\n      <td>11</td>\n      <td>13</td>\n      <td>10.24.345.8390</td>\n      <td>CLASSIC</td>\n      <td>MATCHED_GAME</td>\n      <td>...</td>\n      <td>NaN</td>\n      <td>NaN</td>\n      <td>NaN</td>\n      <td>NaN</td>\n      <td>NaN</td>\n      <td>NaN</td>\n      <td>NaN</td>\n      <td>NaN</td>\n      <td>NaN</td>\n      <td>NaN</td>\n    </tr>\n    <tr>\n      <th>1083</th>\n      <td>3643142628</td>\n      <td>NA1</td>\n      <td>1604256800803</td>\n      <td>1131</td>\n      <td>420</td>\n      <td>11</td>\n      <td>13</td>\n      <td>10.22.341.643</td>\n      <td>CLASSIC</td>\n      <td>MATCHED_GAME</td>\n      <td>...</td>\n      <td>NaN</td>\n      <td>NaN</td>\n      <td>NaN</td>\n      <td>NaN</td>\n      <td>NaN</td>\n      <td>NaN</td>\n      <td>NaN</td>\n      <td>NaN</td>\n      <td>NaN</td>\n      <td>NaN</td>\n    </tr>\n    <tr>\n      <th>1084</th>\n      <td>3650407483</td>\n      <td>NA1</td>\n      <td>1604688249882</td>\n      <td>1497</td>\n      <td>420</td>\n      <td>11</td>\n      <td>13</td>\n      <td>10.22.341.643</td>\n      <td>CLASSIC</td>\n      <td>MATCHED_GAME</td>\n      <td>...</td>\n      <td>NaN</td>\n      <td>NaN</td>\n      <td>NaN</td>\n      <td>NaN</td>\n      <td>NaN</td>\n      <td>NaN</td>\n      <td>NaN</td>\n      <td>NaN</td>\n      <td>NaN</td>\n      <td>NaN</td>\n    </tr>\n    <tr>\n      <th>1085</th>\n      <td>3701887949</td>\n      <td>NA1</td>\n      <td>1607756363545</td>\n      <td>2219</td>\n      <td>420</td>\n      <td>11</td>\n      <td>13</td>\n      <td>10.25.348.1797</td>\n      <td>CLASSIC</td>\n      <td>MATCHED_GAME</td>\n      <td>...</td>\n      <td>213.3</td>\n      <td>2.7</td>\n      <td>236.3</td>\n      <td>213.3</td>\n      <td>0.6</td>\n      <td>-260.6</td>\n      <td>-578.4</td>\n      <td>3.2</td>\n      <td>-86.0</td>\n      <td>190.4</td>\n    </tr>\n    <tr>\n      <th>1086</th>\n      <td>3701896774</td>\n      <td>NA1</td>\n      <td>1607755943033</td>\n      <td>2080</td>\n      <td>420</td>\n      <td>11</td>\n      <td>13</td>\n      <td>10.25.348.1797</td>\n      <td>CLASSIC</td>\n      <td>MATCHED_GAME</td>\n      <td>...</td>\n      <td>NaN</td>\n      <td>NaN</td>\n      <td>NaN</td>\n      <td>NaN</td>\n      <td>NaN</td>\n      <td>NaN</td>\n      <td>NaN</td>\n      <td>NaN</td>\n      <td>NaN</td>\n      <td>NaN</td>\n    </tr>\n  </tbody>\n</table>\n<p>1087 rows × 1518 columns</p>\n</div>"
     },
     "metadata": {},
     "execution_count": 7
    }
   ],
   "source": [
    "df"
   ]
  },
  {
   "cell_type": "code",
   "execution_count": 10,
   "metadata": {},
   "outputs": [
    {
     "output_type": "execute_result",
     "data": {
      "text/plain": [
       "162451"
      ]
     },
     "metadata": {},
     "execution_count": 10
    }
   ],
   "source": [
    "df.isnull().sum().sum()"
   ]
  },
  {
   "cell_type": "code",
   "execution_count": null,
   "metadata": {},
   "outputs": [],
   "source": []
  }
 ]
}