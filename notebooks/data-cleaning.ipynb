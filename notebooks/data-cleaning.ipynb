{
 "cells": [
  {
   "cell_type": "code",
   "execution_count": 71,
   "metadata": {},
   "outputs": [],
   "source": [
    "import pandas as pd\n",
    "import os\n",
    "import psycopg2\n",
    "from dotenv import load_dotenv\n",
    "from psycopg2.extras import execute_values\n",
    "df = pd.read_csv('/home/ivancampos/Documents/Programming Stuff/AtomicLocks/Data Science/Data/League_players.csv')"
   ]
  },
  {
   "cell_type": "code",
   "execution_count": 72,
   "metadata": {},
   "outputs": [
    {
     "data": {
      "text/html": [
       "<div>\n",
       "<style scoped>\n",
       "    .dataframe tbody tr th:only-of-type {\n",
       "        vertical-align: middle;\n",
       "    }\n",
       "\n",
       "    .dataframe tbody tr th {\n",
       "        vertical-align: top;\n",
       "    }\n",
       "\n",
       "    .dataframe thead th {\n",
       "        text-align: right;\n",
       "    }\n",
       "</style>\n",
       "<table border=\"1\" class=\"dataframe\">\n",
       "  <thead>\n",
       "    <tr style=\"text-align: right;\">\n",
       "      <th></th>\n",
       "      <th>PlayerId</th>\n",
       "      <th>FirstName</th>\n",
       "      <th>LastName</th>\n",
       "      <th>CommonName</th>\n",
       "      <th>MatchName</th>\n",
       "      <th>Position</th>\n",
       "      <th>Gender</th>\n",
       "      <th>BirthDate</th>\n",
       "      <th>BirthCountry</th>\n",
       "      <th>Nationality</th>\n",
       "      <th>Updated</th>\n",
       "    </tr>\n",
       "  </thead>\n",
       "  <tbody>\n",
       "    <tr>\n",
       "      <th>0</th>\n",
       "      <td>100000576</td>\n",
       "      <td>Lee</td>\n",
       "      <td>Da-yun</td>\n",
       "      <td>Lee Da-yun</td>\n",
       "      <td>Spirit</td>\n",
       "      <td>Jungle</td>\n",
       "      <td>Male</td>\n",
       "      <td>1996-07-01T00:00:00</td>\n",
       "      <td>Korea Republic</td>\n",
       "      <td>Korea Republic</td>\n",
       "      <td>2021-06-11T08:05:44</td>\n",
       "    </tr>\n",
       "    <tr>\n",
       "      <th>1</th>\n",
       "      <td>100000577</td>\n",
       "      <td>Lee</td>\n",
       "      <td>Seo-haeng</td>\n",
       "      <td>Lee Seo-haeng</td>\n",
       "      <td>Kuro</td>\n",
       "      <td>Mid</td>\n",
       "      <td>Male</td>\n",
       "      <td>1994-01-04T00:00:00</td>\n",
       "      <td>Korea Republic</td>\n",
       "      <td>Korea Republic</td>\n",
       "      <td>2021-06-11T08:07:05</td>\n",
       "    </tr>\n",
       "    <tr>\n",
       "      <th>2</th>\n",
       "      <td>100000578</td>\n",
       "      <td>Ha</td>\n",
       "      <td>Jong-Hoon</td>\n",
       "      <td>Ha Jong-Hoon</td>\n",
       "      <td>Kramer</td>\n",
       "      <td>ADC</td>\n",
       "      <td>Male</td>\n",
       "      <td>1993-03-09T00:00:00</td>\n",
       "      <td>Korea Republic</td>\n",
       "      <td>Korea Republic</td>\n",
       "      <td>2021-04-04T12:10:01</td>\n",
       "    </tr>\n",
       "    <tr>\n",
       "      <th>3</th>\n",
       "      <td>100000579</td>\n",
       "      <td>Bak</td>\n",
       "      <td>Jong-ik</td>\n",
       "      <td>Bak Jong-ik</td>\n",
       "      <td>TusiN</td>\n",
       "      <td>Support</td>\n",
       "      <td>Male</td>\n",
       "      <td>1995-11-12T00:00:00</td>\n",
       "      <td>Korea Republic</td>\n",
       "      <td>Korea Republic</td>\n",
       "      <td>2021-06-11T08:06:56</td>\n",
       "    </tr>\n",
       "    <tr>\n",
       "      <th>4</th>\n",
       "      <td>100000580</td>\n",
       "      <td>Lee</td>\n",
       "      <td>Jae-ha</td>\n",
       "      <td>Lee Jae-ha</td>\n",
       "      <td>Mowgli</td>\n",
       "      <td>Jungle</td>\n",
       "      <td>Male</td>\n",
       "      <td>1998-04-14T00:00:00</td>\n",
       "      <td>Korea Republic</td>\n",
       "      <td>Korea Republic</td>\n",
       "      <td>2021-06-11T08:04:05</td>\n",
       "    </tr>\n",
       "    <tr>\n",
       "      <th>...</th>\n",
       "      <td>...</td>\n",
       "      <td>...</td>\n",
       "      <td>...</td>\n",
       "      <td>...</td>\n",
       "      <td>...</td>\n",
       "      <td>...</td>\n",
       "      <td>...</td>\n",
       "      <td>...</td>\n",
       "      <td>...</td>\n",
       "      <td>...</td>\n",
       "      <td>...</td>\n",
       "    </tr>\n",
       "    <tr>\n",
       "      <th>1733</th>\n",
       "      <td>100003492</td>\n",
       "      <td>Gen</td>\n",
       "      <td>Takahashi</td>\n",
       "      <td>Gen Takahashi</td>\n",
       "      <td>Phantom</td>\n",
       "      <td>Support</td>\n",
       "      <td>Male</td>\n",
       "      <td>NaN</td>\n",
       "      <td>Japan</td>\n",
       "      <td>Japan</td>\n",
       "      <td>2021-06-22T16:53:50</td>\n",
       "    </tr>\n",
       "    <tr>\n",
       "      <th>1734</th>\n",
       "      <td>100003493</td>\n",
       "      <td>Sora</td>\n",
       "      <td>Tobita</td>\n",
       "      <td>Sora Tobita</td>\n",
       "      <td>momo</td>\n",
       "      <td>Top</td>\n",
       "      <td>Male</td>\n",
       "      <td>NaN</td>\n",
       "      <td>Japan</td>\n",
       "      <td>Japan</td>\n",
       "      <td>2021-06-22T16:53:50</td>\n",
       "    </tr>\n",
       "    <tr>\n",
       "      <th>1735</th>\n",
       "      <td>100003496</td>\n",
       "      <td>Philipp</td>\n",
       "      <td>Englert</td>\n",
       "      <td>Philipp Englert</td>\n",
       "      <td>Lilipp</td>\n",
       "      <td>Support</td>\n",
       "      <td>Male</td>\n",
       "      <td>NaN</td>\n",
       "      <td>Germany</td>\n",
       "      <td>Germany</td>\n",
       "      <td>2021-06-28T08:51:32</td>\n",
       "    </tr>\n",
       "    <tr>\n",
       "      <th>1736</th>\n",
       "      <td>100003497</td>\n",
       "      <td>Andrey</td>\n",
       "      <td>Yakovlev</td>\n",
       "      <td>Andrey Yakovlev</td>\n",
       "      <td>Argonavt</td>\n",
       "      <td>ADC</td>\n",
       "      <td>Male</td>\n",
       "      <td>NaN</td>\n",
       "      <td>Ukraine</td>\n",
       "      <td>Ukraine</td>\n",
       "      <td>2021-06-25T14:59:00</td>\n",
       "    </tr>\n",
       "    <tr>\n",
       "      <th>1737</th>\n",
       "      <td>100003498</td>\n",
       "      <td>William</td>\n",
       "      <td>Cummins</td>\n",
       "      <td>William Cummins</td>\n",
       "      <td>Will</td>\n",
       "      <td>Jungle</td>\n",
       "      <td>Male</td>\n",
       "      <td>NaN</td>\n",
       "      <td>United States</td>\n",
       "      <td>United States</td>\n",
       "      <td>2021-06-28T08:49:37</td>\n",
       "    </tr>\n",
       "  </tbody>\n",
       "</table>\n",
       "<p>1738 rows × 11 columns</p>\n",
       "</div>"
      ],
      "text/plain": [
       "       PlayerId FirstName   LastName       CommonName MatchName Position  \\\n",
       "0     100000576       Lee     Da-yun       Lee Da-yun    Spirit   Jungle   \n",
       "1     100000577       Lee  Seo-haeng    Lee Seo-haeng      Kuro      Mid   \n",
       "2     100000578        Ha  Jong-Hoon     Ha Jong-Hoon    Kramer      ADC   \n",
       "3     100000579       Bak    Jong-ik      Bak Jong-ik     TusiN  Support   \n",
       "4     100000580       Lee     Jae-ha       Lee Jae-ha    Mowgli   Jungle   \n",
       "...         ...       ...        ...              ...       ...      ...   \n",
       "1733  100003492       Gen  Takahashi    Gen Takahashi   Phantom  Support   \n",
       "1734  100003493      Sora     Tobita      Sora Tobita      momo      Top   \n",
       "1735  100003496   Philipp    Englert  Philipp Englert    Lilipp  Support   \n",
       "1736  100003497    Andrey   Yakovlev  Andrey Yakovlev  Argonavt      ADC   \n",
       "1737  100003498   William    Cummins  William Cummins      Will   Jungle   \n",
       "\n",
       "     Gender            BirthDate    BirthCountry     Nationality  \\\n",
       "0      Male  1996-07-01T00:00:00  Korea Republic  Korea Republic   \n",
       "1      Male  1994-01-04T00:00:00  Korea Republic  Korea Republic   \n",
       "2      Male  1993-03-09T00:00:00  Korea Republic  Korea Republic   \n",
       "3      Male  1995-11-12T00:00:00  Korea Republic  Korea Republic   \n",
       "4      Male  1998-04-14T00:00:00  Korea Republic  Korea Republic   \n",
       "...     ...                  ...             ...             ...   \n",
       "1733   Male                  NaN           Japan           Japan   \n",
       "1734   Male                  NaN           Japan           Japan   \n",
       "1735   Male                  NaN         Germany         Germany   \n",
       "1736   Male                  NaN         Ukraine         Ukraine   \n",
       "1737   Male                  NaN   United States   United States   \n",
       "\n",
       "                  Updated  \n",
       "0     2021-06-11T08:05:44  \n",
       "1     2021-06-11T08:07:05  \n",
       "2     2021-04-04T12:10:01  \n",
       "3     2021-06-11T08:06:56  \n",
       "4     2021-06-11T08:04:05  \n",
       "...                   ...  \n",
       "1733  2021-06-22T16:53:50  \n",
       "1734  2021-06-22T16:53:50  \n",
       "1735  2021-06-28T08:51:32  \n",
       "1736  2021-06-25T14:59:00  \n",
       "1737  2021-06-28T08:49:37  \n",
       "\n",
       "[1738 rows x 11 columns]"
      ]
     },
     "execution_count": 72,
     "metadata": {},
     "output_type": "execute_result"
    }
   ],
   "source": [
    "df"
   ]
  },
  {
   "cell_type": "code",
   "execution_count": 73,
   "metadata": {},
   "outputs": [
    {
     "data": {
      "text/plain": [
       "1067"
      ]
     },
     "execution_count": 73,
     "metadata": {},
     "output_type": "execute_result"
    }
   ],
   "source": [
    "df.isnull().sum().sum()"
   ]
  },
  {
   "cell_type": "code",
   "execution_count": 74,
   "metadata": {},
   "outputs": [],
   "source": [
    "df.fillna('?',inplace=True)"
   ]
  },
  {
   "cell_type": "code",
   "execution_count": 75,
   "metadata": {},
   "outputs": [],
   "source": [
    "df.to_csv('League_players.csv')"
   ]
  },
  {
   "cell_type": "code",
   "execution_count": 76,
   "metadata": {},
   "outputs": [],
   "source": [
    "df = pd.read_csv('/home/ivancampos/Documents/Programming Stuff/AtomicLocks/Data Science/notebooks/League_players.csv')"
   ]
  },
  {
   "cell_type": "code",
   "execution_count": 77,
   "metadata": {},
   "outputs": [
    {
     "data": {
      "text/plain": [
       "Unnamed: 0       int64\n",
       "PlayerId         int64\n",
       "FirstName       object\n",
       "LastName        object\n",
       "CommonName      object\n",
       "MatchName       object\n",
       "Position        object\n",
       "Gender          object\n",
       "BirthDate       object\n",
       "BirthCountry    object\n",
       "Nationality     object\n",
       "Updated         object\n",
       "dtype: object"
      ]
     },
     "execution_count": 77,
     "metadata": {},
     "output_type": "execute_result"
    }
   ],
   "source": [
    "df.dtypes"
   ]
  },
  {
   "cell_type": "code",
   "execution_count": 78,
   "metadata": {},
   "outputs": [],
   "source": [
    "create_LCS_players_table = \"\"\"\n",
    "DROP TABLE IF EXISTS lcs_players;\n",
    "CREATE TABLE lcs_players (\n",
    "  ID INT,\n",
    "  PlayerId INT,\n",
    "  FirstName VARCHAR,\n",
    "  LastName VARCHAR,\n",
    "  CommonName VARCHAR,\n",
    "  MatchName VARCHAR,\n",
    "  Position VARCHAR,\n",
    "  Gender VARCHAR,\n",
    "  BirthDate VARCHAR,\n",
    "  BirthCountry VARCHAR,\n",
    "  Nationality VARCHAR,\n",
    "  Updated VARCHAR\n",
    ")\n",
    "\"\"\""
   ]
  },
  {
   "cell_type": "code",
   "execution_count": 79,
   "metadata": {},
   "outputs": [],
   "source": [
    "load_dotenv(\"/home/ivancampos/Documents/Programming Stuff/AtomicLocks/Data Science/Data/.env\")\n",
    "\n",
    "DB_NAME = os.getenv('DB_NAME')\n",
    "DB_USER = os.getenv(\"DB_USER\")\n",
    "DB_PASSWORD = os.getenv(\"DB_PASSWORD\")\n",
    "DB_HOST = os.getenv(\"DB_HOST\")\n",
    "DB_PORT = os.getenv(\"DB_PORT\")\n"
   ]
  },
  {
   "cell_type": "code",
   "execution_count": 80,
   "metadata": {},
   "outputs": [],
   "source": [
    "conn = psycopg2.connect(\n",
    "            dbname= DB_NAME, user=DB_USER, password=DB_PASSWORD, host=DB_HOST, port=DB_PORT)\n",
    "\n",
    "cur = conn.cursor()"
   ]
  },
  {
   "cell_type": "code",
   "execution_count": 81,
   "metadata": {},
   "outputs": [],
   "source": [
    "cur.execute(create_LCS_players_table)\n",
    "conn.commit()\n"
   ]
  },
  {
   "cell_type": "code",
   "execution_count": 82,
   "metadata": {},
   "outputs": [],
   "source": [
    "insert_lcs_players = \"\"\"\n",
    "INSERT INTO lcs_players \n",
    "(PlayerId,FirstName,LastName,CommonName,MatchName,Position,Gender,BirthDate,BirthCountry,Nationality,Updated)\n",
    "VALUES\"\"\" + str(tuple(row)) + \";\""
   ]
  },
  {
   "cell_type": "code",
   "execution_count": 83,
   "metadata": {},
   "outputs": [],
   "source": [
    "execute_values(cur, \"\"\"\n",
    "    INSERT INTO lcs_players\n",
    "    (ID,PlayerId,FirstName,LastName,CommonName,MatchName,Position,Gender,BirthDate,BirthCountry,Nationality,Updated)\n",
    "    VALUES %s;\n",
    "    \"\"\", [tuple(row) for row in df.values])\n",
    "\n",
    "conn.commit()"
   ]
  },
  {
   "cell_type": "code",
   "execution_count": 85,
   "metadata": {},
   "outputs": [],
   "source": [
    "cur.close()\n",
    "conn.close()"
   ]
  }
 ],
 "metadata": {
  "interpreter": {
   "hash": "cb024ec86ced62a660c8d9aac7a1c8594ba0d6eea297fe2be9581b7a2155aecb"
  },
  "kernelspec": {
   "display_name": "Python 3.9.5 64-bit ('Data_Science-vqqOLOM8': venv)",
   "name": "python3"
  },
  "language_info": {
   "codemirror_mode": {
    "name": "ipython",
    "version": 3
   },
   "file_extension": ".py",
   "mimetype": "text/x-python",
   "name": "python",
   "nbconvert_exporter": "python",
   "pygments_lexer": "ipython3",
   "version": "3.9.5"
  },
  "metadata": {
   "interpreter": {
    "hash": "6887c15d3295a9bf1d43b41b516e20e9cfb3ef4a26989fabbae1bd079ce4279b"
   }
  },
  "orig_nbformat": 2
 },
 "nbformat": 4,
 "nbformat_minor": 2
}